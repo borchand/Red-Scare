{
 "cells": [
  {
   "cell_type": "code",
   "execution_count": null,
   "metadata": {},
   "outputs": [],
   "source": [
    "from Utils.ReadInput import ReadInput, ReadFile, BaseRead\n",
    "from Utils.GraphComponents import Graph\n",
    "import Utils.data_files as files\n",
    "import networkx as nx"
   ]
  },
  {
   "cell_type": "markdown",
   "metadata": {},
   "source": [
    "## ReadFile"
   ]
  },
  {
   "cell_type": "code",
   "execution_count": null,
   "metadata": {},
   "outputs": [],
   "source": [
    "path = \"data/G-ex.txt\"\n",
    "readFile = ReadFile(path)\n",
    "# or\n",
    "readFile = ReadFile(files.G_EX)\n",
    "\n",
    "print(readFile)\n",
    "print(readFile.edgeTupleList)"
   ]
  },
  {
   "cell_type": "markdown",
   "metadata": {},
   "source": [
    "## ReadFile or ReadInput Into a Graph (and nx.Graph)\n",
    "Since `ReadFile` and `ReadInput` both implements `BaseInput` all methods can be applied to both classes. The only difference is when we read in the data."
   ]
  },
  {
   "cell_type": "code",
   "execution_count": null,
   "metadata": {},
   "outputs": [],
   "source": [
    "## returns a Graph\n",
    "graph = readFile.toGraph()\n",
    "\n",
    "print(\"nx edges: \", graph.nxGraph.edges)\n",
    "print(\"is_directed: \", graph.nxGraph.is_directed())\n",
    "print(\"nx nodes: \", graph.nxGraph.nodes)"
   ]
  },
  {
   "cell_type": "markdown",
   "metadata": {},
   "source": [
    "## Idea 1\n",
    "\n",
    "### Weigted graph\n",
    "\n",
    "The red nodes \"cost\" 1 and black nodes \"cost\" 0\n",
    "\n",
    "Then try to spend as less a possible"
   ]
  },
  {
   "cell_type": "code",
   "execution_count": null,
   "metadata": {},
   "outputs": [],
   "source": [
    "G = nx.Graph()\n",
    "\n",
    "for node in graph.Nodes:\n",
    "    weight = 1 if node.is_red else 0\n",
    "    G.add_node(node.node, weight=weight)\n",
    "\n",
    "G.add_edges_from(graph.Edges)\n",
    "\n",
    "labels = {n: G.nodes[n]['weight'] for n in G.nodes}\n",
    "colors = [G.nodes[n]['weight'] for n in G.nodes]\n",
    "nx.draw(G, with_labels=True, labels=labels, node_color=colors)"
   ]
  },
  {
   "cell_type": "code",
   "execution_count": null,
   "metadata": {},
   "outputs": [],
   "source": []
  }
 ],
 "metadata": {
  "kernelspec": {
   "display_name": "NA",
   "language": "python",
   "name": "python3"
  },
  "language_info": {
   "codemirror_mode": {
    "name": "ipython",
    "version": 3
   },
   "file_extension": ".py",
   "mimetype": "text/x-python",
   "name": "python",
   "nbconvert_exporter": "python",
   "pygments_lexer": "ipython3",
   "version": "3.10.12"
  }
 },
 "nbformat": 4,
 "nbformat_minor": 2
}
