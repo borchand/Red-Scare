{
 "cells": [
  {
   "cell_type": "markdown",
   "metadata": {},
   "source": [
    "## ReadFile"
   ]
  },
  {
   "cell_type": "code",
   "execution_count": 1,
   "metadata": {},
   "outputs": [],
   "source": [
    "from Utils.ReadInput import ReadInput, ReadFile, BaseRead\n",
    "from Utils.GraphComponents import Graph\n",
    "import Utils.data_files as files\n",
    "import networkx as nx"
   ]
  },
  {
   "cell_type": "markdown",
   "metadata": {},
   "source": [
    "## ReadFile or ReadInput Into a Graph (and nx.Graph)\n",
    "Since `ReadFile` and `ReadInput` both implements `BaseInput` all methods can be applied to both classes. The only difference is when we read in the data."
   ]
  },
  {
   "cell_type": "code",
   "execution_count": 2,
   "metadata": {},
   "outputs": [
    {
     "name": "stdout",
     "output_type": "stream",
     "text": [
      "Node: 0 is black\n",
      "Node: 1 is black\n",
      "Node: 2 is black\n",
      "Node: 3 is black\n",
      "Node: 4 is red\n",
      "Node: 5 is red\n",
      "Node: 6 is black\n",
      "Node: 7 is red\n",
      "\n",
      "Edge: 0 -- 1\n",
      "Edge: 1 -- 2\n",
      "Edge: 2 -- 3\n",
      "Edge: 0 -- 4\n",
      "Edge: 4 -- 3\n",
      "Edge: 0 -- 5\n",
      "Edge: 5 -- 6\n",
      "Edge: 6 -- 7\n",
      "Edge: 7 -- 3\n",
      "\n",
      "[('0', '1'), ('1', '2'), ('2', '3'), ('0', '4'), ('4', '3'), ('0', '5'), ('5', '6'), ('6', '7'), ('7', '3')]\n"
     ]
    }
   ],
   "source": [
    "path = \"data/G-ex.txt\"\n",
    "readFile = ReadFile(path)\n",
    "# or\n",
    "readFile = ReadFile(files.G_EX)\n",
    "\n",
    "print(readFile)\n",
    "print(readFile.edgeTupleList)"
   ]
  },
  {
   "cell_type": "code",
   "execution_count": 3,
   "metadata": {},
   "outputs": [
    {
     "name": "stdout",
     "output_type": "stream",
     "text": [
      "nx edges:  [('0', '1'), ('0', '4'), ('0', '5'), ('1', '2'), ('2', '3'), ('3', '4'), ('3', '7'), ('5', '6'), ('6', '7')]\n",
      "is_directed:  False\n",
      "nx nodes:  ['0', '1', '2', '3', '4', '5', '6', '7']\n"
     ]
    }
   ],
   "source": [
    "## returns a Graph\n",
    "graph = readFile.toGraph()\n",
    "\n",
    "print(\"nx edges: \", graph.nxGraph.edges)\n",
    "print(\"is_directed: \", graph.nxGraph.is_directed())\n",
    "print(\"nx nodes: \", graph.nxGraph.nodes)"
   ]
  },
  {
   "cell_type": "markdown",
   "metadata": {},
   "source": [
    "## Idea 1\n",
    "\n",
    "### Weigted graph\n",
    "\n",
    "The red nodes \"cost\" 1 and black nodes \"cost\" 0\n",
    "\n",
    "Then try to spend as less a possible"
   ]
  },
  {
   "cell_type": "code",
   "execution_count": null,
   "metadata": {},
   "outputs": [
    {
     "ename": "AttributeError",
     "evalue": "'str' object has no attribute 'is_red'",
     "output_type": "error",
     "traceback": [
      "\u001b[1;31m---------------------------------------------------------------------------\u001b[0m",
      "\u001b[1;31mAttributeError\u001b[0m                            Traceback (most recent call last)",
      "Cell \u001b[1;32mIn[16], line 5\u001b[0m\n\u001b[0;32m      2\u001b[0m G \u001b[38;5;241m=\u001b[39m nx\u001b[38;5;241m.\u001b[39mDiGraph()\n\u001b[0;32m      4\u001b[0m \u001b[38;5;28;01mfor\u001b[39;00m edge \u001b[38;5;129;01min\u001b[39;00m readFile\u001b[38;5;241m.\u001b[39medges:\n\u001b[1;32m----> 5\u001b[0m     weight \u001b[38;5;241m=\u001b[39m \u001b[38;5;241m1\u001b[39m \u001b[38;5;28;01mif\u001b[39;00m \u001b[43medge\u001b[49m\u001b[38;5;241;43m.\u001b[39;49m\u001b[43mu\u001b[49m\u001b[38;5;241;43m.\u001b[39;49m\u001b[43mis_red\u001b[49m \u001b[38;5;28;01melse\u001b[39;00m \u001b[38;5;241m0\u001b[39m\n\u001b[0;32m      7\u001b[0m     G\u001b[38;5;241m.\u001b[39madd_edge(edge[\u001b[38;5;241m0\u001b[39m], edge[\u001b[38;5;241m1\u001b[39m], weight\u001b[38;5;241m=\u001b[39mweight)\n\u001b[0;32m      9\u001b[0m G\u001b[38;5;241m.\u001b[39madd_edges_from(graph\u001b[38;5;241m.\u001b[39mEdges)\n",
      "\u001b[1;31mAttributeError\u001b[0m: 'str' object has no attribute 'is_red'"
     ]
    }
   ],
   "source": [
    "# undirected graph\n",
    "G = nx.DiGraph()\n",
    "\n",
    "for edge in readFile.edges:\n",
    "    weight = 1 if edge.u.is_red else 0\n",
    "    \n",
    "    G.add_edge(edge[0], edge[1], weight=weight)\n",
    "\n",
    "G.add_edges_from(graph.Edges)\n",
    "labels = {n: G.nodes[n]['weight'] for n in G.nodes}\n",
    "\n",
    "colors = [G.nodes[n]['weight'] for n in G.nodes]\n",
    "nx.draw(G, with_labels=True, labels=labels, node_color=colors)"
   ]
  },
  {
   "cell_type": "code",
   "execution_count": null,
   "metadata": {},
   "outputs": [],
   "source": [
    "nx.shortest_path(G, readFile.s, readFile.t, weight=weight_function)"
   ]
  }
 ],
 "metadata": {
  "kernelspec": {
   "display_name": "NA",
   "language": "python",
   "name": "python3"
  },
  "language_info": {
   "codemirror_mode": {
    "name": "ipython",
    "version": 3
   },
   "file_extension": ".py",
   "mimetype": "text/x-python",
   "name": "python",
   "nbconvert_exporter": "python",
   "pygments_lexer": "ipython3",
   "version": "3.10.12"
  }
 },
 "nbformat": 4,
 "nbformat_minor": 2
}
