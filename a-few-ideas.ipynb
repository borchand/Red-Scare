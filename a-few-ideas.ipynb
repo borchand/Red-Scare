{
 "cells": [
  {
   "cell_type": "markdown",
   "metadata": {},
   "source": [
    "## ReadFile"
   ]
  },
  {
   "cell_type": "code",
   "execution_count": 164,
   "metadata": {},
   "outputs": [],
   "source": [
    "from Utils.ReadInput import ReadInput, ReadFile, BaseRead\n",
    "from Utils.GraphComponents import Graph\n",
    "import Utils.data_files as files\n",
    "import networkx as nx"
   ]
  },
  {
   "cell_type": "markdown",
   "metadata": {},
   "source": [
    "## ReadFile or ReadInput Into a Graph (and nx.Graph)\n",
    "Since `ReadFile` and `ReadInput` both implements `BaseInput` all methods can be applied to both classes. The only difference is when we read in the data."
   ]
  },
  {
   "cell_type": "code",
   "execution_count": null,
   "metadata": {},
   "outputs": [],
   "source": [
    "path = \"data/G-ex.txt\"\n",
    "readFile = ReadFile(path)\n",
    "# or\n",
    "readFile = ReadFile(files.G_EX)\n",
    "\n",
    "print(readFile)\n",
    "print(readFile.edgeTupleList)"
   ]
  },
  {
   "cell_type": "code",
   "execution_count": null,
   "metadata": {},
   "outputs": [],
   "source": [
    "## returns a Graph\n",
    "graph = readFile.toGraph()\n",
    "\n",
    "print(\"nx edges: \", graph.nxGraph.edges)\n",
    "print(\"is_directed: \", graph.nxGraph.is_directed())\n",
    "print(\"nx nodes: \", graph.nxGraph.nodes)"
   ]
  },
  {
   "cell_type": "markdown",
   "metadata": {},
   "source": [
    "## Idea 1\n",
    "\n",
    "### Weigted graph\n",
    "\n",
    "The red nodes \"cost\" 1 and black nodes \"cost\" 0\n",
    "\n",
    "Then try to spend as less a possible"
   ]
  },
  {
   "cell_type": "code",
   "execution_count": null,
   "metadata": {},
   "outputs": [],
   "source": [
    "# undirected graph\n",
    "G = nx.DiGraph()\n",
    "\n",
    "for edge in readFile.edges:\n",
    "    u = readFile.getNodeFromName(edge.u)\n",
    "    v = readFile.getNodeFromName(edge.v)\n",
    "    \n",
    "    G.add_edge(u, v, weight = 1 if v.is_red else 0)\n",
    "    G.add_edge(v, u, weight = 1 if u.is_red else 0)\n",
    "\n",
    "\n",
    "\n",
    "colors = [\"red\" if n.is_red else \"black\" for n in G.nodes]\n",
    "\n",
    "nx.draw(G, with_labels=False, node_color=colors)"
   ]
  },
  {
   "cell_type": "code",
   "execution_count": null,
   "metadata": {},
   "outputs": [],
   "source": [
    "try:\n",
    "    print(nx.dijkstra_path_length(G, readFile.getNodeFromName(readFile.s), readFile.getNodeFromName(readFile.t), weight='weight'))\n",
    "except nx.NodeNotFound or nx.NetworkXNoPath:\n",
    "    print(\"No path from s to t\")\n",
    "    ## should return -1 in this case"
   ]
  },
  {
   "cell_type": "markdown",
   "metadata": {},
   "source": [
    "## Directed graph"
   ]
  },
  {
   "cell_type": "code",
   "execution_count": null,
   "metadata": {},
   "outputs": [],
   "source": [
    "readFile = ReadFile(files.SKI_LEVEL10_1)\n",
    "\n",
    "print(readFile)\n",
    "print(readFile.edgeTupleList)"
   ]
  },
  {
   "cell_type": "code",
   "execution_count": null,
   "metadata": {},
   "outputs": [],
   "source": [
    "# undirected graph\n",
    "G = nx.DiGraph()\n",
    "\n",
    "for edge in readFile.edges:\n",
    "    u = readFile.getNodeFromName(edge.u)\n",
    "    v = readFile.getNodeFromName(edge.v)\n",
    "    \n",
    "    G.add_edge(u, v, weight = 1 if v.is_red else 0)\n",
    "\n",
    "\n",
    "colors = [\"red\" if n.is_red else \"black\" for n in G.nodes]\n",
    "\n",
    "nx.draw(G, with_labels=False, node_color=colors)"
   ]
  },
  {
   "cell_type": "code",
   "execution_count": null,
   "metadata": {},
   "outputs": [],
   "source": [
    "s = readFile.getNodeFromName(readFile.s)\n",
    "t = readFile.getNodeFromName(readFile.t)\n",
    "try:\n",
    "    print(nx.dijkstra_path_length(G, readFile.getNodeFromName(readFile.s), readFile.getNodeFromName(readFile.t), weight='weight'))\n",
    "except nx.NodeNotFound or nx.NetworkXNoPath:\n",
    "    print(\"No path from s to t\")\n",
    "    ## should return -1 in this case"
   ]
  }
 ],
 "metadata": {
  "kernelspec": {
   "display_name": "NA",
   "language": "python",
   "name": "python3"
  },
  "language_info": {
   "codemirror_mode": {
    "name": "ipython",
    "version": 3
   },
   "file_extension": ".py",
   "mimetype": "text/x-python",
   "name": "python",
   "nbconvert_exporter": "python",
   "pygments_lexer": "ipython3",
   "version": "3.10.12"
  }
 },
 "nbformat": 4,
 "nbformat_minor": 2
}
