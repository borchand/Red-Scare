{
 "cells": [
  {
   "cell_type": "code",
   "execution_count": 1,
   "metadata": {},
   "outputs": [],
   "source": [
    "from Utils.ReadInput import ReadInput, ReadFile, BaseRead\n",
    "from Utils.GraphComponents import Graph\n",
    "import Utils.data_files as files\n",
    "import networkx as nx"
   ]
  },
  {
   "cell_type": "markdown",
   "metadata": {},
   "source": [
    "## ReadInput\n",
    "\n",
    "run in terminal and specify input file\n",
    "\n",
    "```bash\n",
    "python <file_name> < file_path \n",
    "```\n",
    "\n",
    "\n",
    "\n",
    "Then we need a main method that looks something like this\n",
    "```py\n",
    "def main()-> None:\n",
    "    i = ReadInput()\n",
    "    print(i)\n",
    "    \n",
    "if __name__ == \"__main__\":\n",
    "    main()\n",
    "```\n",
    "\n",
    "Example\n",
    "```bash\n",
    "python main.py < data/G-ex.txt \n",
    "```\n",
    "\n",
    "Output in terminal \n",
    "```\n",
    "Node: 0 is black\n",
    "Node: 1 is black\n",
    "Node: 2 is black\n",
    "Node: 3 is black\n",
    "Node: 4 is red\n",
    "Node: 5 is red\n",
    "Node: 6 is black\n",
    "Node: 7 is red\n",
    "\n",
    "Edge: 0 -- 1\n",
    "Edge: 1 -- 2\n",
    "Edge: 2 -- 3\n",
    "Edge: 0 -- 4\n",
    "Edge: 4 -- 3\n",
    "Edge: 0 -- 5\n",
    "Edge: 5 -- 6\n",
    "Edge: 6 -- 7\n",
    "Edge: 7 -- 3\n",
    "```"
   ]
  },
  {
   "cell_type": "markdown",
   "metadata": {},
   "source": [
    "## ReadFile"
   ]
  },
  {
   "cell_type": "code",
   "execution_count": null,
   "metadata": {},
   "outputs": [],
   "source": [
    "path = \"data/G-ex.txt\"\n",
    "readFile = ReadFile(path)\n",
    "# or\n",
    "readFile = ReadFile(files.G_EX)\n",
    "\n",
    "print(readFile)\n",
    "print(readFile.edgeTupleList)"
   ]
  },
  {
   "cell_type": "markdown",
   "metadata": {},
   "source": [
    "## ReadFile or ReadInput Into a Graph (and nx.Graph)\n",
    "Since `ReadFile` and `ReadInput` both implements `BaseInput` all methods can be applied to both classes. The only difference is when we read in the data.\n",
    "\n",
    "## Graph"
   ]
  },
  {
   "cell_type": "code",
   "execution_count": null,
   "metadata": {},
   "outputs": [],
   "source": [
    "## returns a Graph\n",
    "graph = readFile.toGraph()\n",
    "\n",
    "print(\"nx edges: \", graph.nxGraph.edges)\n",
    "print(\"is_directed: \", graph.nxGraph.is_directed())\n",
    "print(\"nx nodes: \", graph.nxGraph.nodes)"
   ]
  },
  {
   "cell_type": "markdown",
   "metadata": {},
   "source": [
    "## WeightedGraph\n",
    "This allows us to read in a graph with weights. The weights are stored in the `weight` attribute of the edge. If the graph is undirected the weight is stored in both directions."
   ]
  },
  {
   "cell_type": "code",
   "execution_count": null,
   "metadata": {},
   "outputs": [],
   "source": [
    "## returns a weighted Graph\n",
    "weightedGraph = readFile.toWeightedGraph(1, 0)\n",
    "\n",
    "print(\"nx edges: \", weightedGraph.nxGraph.edges)\n",
    "print(\"is_directed: \", weightedGraph.nxGraph.is_directed())\n",
    "print(\"nx nodes: \", weightedGraph.nxGraph.nodes)"
   ]
  },
  {
   "cell_type": "markdown",
   "metadata": {},
   "source": [
    "### BaseRead\n",
    "`BaseRead` implements all the methods use in `ReadFile` and `Readinput`. Since the `BaseRead` doesn't have any data we can not use it on it's own.\n",
    "It will raise exceptions if no data is given as shown bellow"
   ]
  },
  {
   "cell_type": "code",
   "execution_count": null,
   "metadata": {},
   "outputs": [],
   "source": [
    "baseRead = BaseRead()\n",
    "\n",
    "## All these will raise exeptions\n",
    "baseRead.printEdges()\n",
    "baseRead.printNodes()\n",
    "baseRead.toGraph()"
   ]
  }
 ],
 "metadata": {
  "kernelspec": {
   "display_name": "venv",
   "language": "python",
   "name": "python3"
  },
  "language_info": {
   "codemirror_mode": {
    "name": "ipython",
    "version": 3
   },
   "file_extension": ".py",
   "mimetype": "text/x-python",
   "name": "python",
   "nbconvert_exporter": "python",
   "pygments_lexer": "ipython3",
   "version": "3.8.18"
   "version": "3.10.11"
  }
 },
 "nbformat": 4,
 "nbformat_minor": 2
}
