{
 "cells": [
  {
   "cell_type": "code",
   "execution_count": 1,
   "metadata": {},
   "outputs": [],
   "source": [
    "from Utils.ReadInput import ReadInput, ReadFile, BaseRead\n",
    "from Utils.GraphComponents import Graph\n",
    "import Utils.data_files as files\n",
    "import networkx as nx"
   ]
  },
  {
   "cell_type": "markdown",
   "metadata": {},
   "source": [
    "## ReadInput\n",
    "\n",
    "run in terminal and specify input file\n",
    "\n",
    "```bash\n",
    "python <file_name> < file_path \n",
    "```\n",
    "\n",
    "\n",
    "\n",
    "Then we need a main method that looks something like this\n",
    "```py\n",
    "def main()-> None:\n",
    "    i = ReadInput()\n",
    "    print(i)\n",
    "    \n",
    "if __name__ == \"__main__\":\n",
    "    main()\n",
    "```\n",
    "\n",
    "Example\n",
    "```bash\n",
    "python main.py < data/G-ex.txt \n",
    "```\n",
    "\n",
    "Output in terminal \n",
    "```\n",
    "Node: 0 is black\n",
    "Node: 1 is black\n",
    "Node: 2 is black\n",
    "Node: 3 is black\n",
    "Node: 4 is red\n",
    "Node: 5 is red\n",
    "Node: 6 is black\n",
    "Node: 7 is red\n",
    "\n",
    "Edge: 0 -- 1\n",
    "Edge: 1 -- 2\n",
    "Edge: 2 -- 3\n",
    "Edge: 0 -- 4\n",
    "Edge: 4 -- 3\n",
    "Edge: 0 -- 5\n",
    "Edge: 5 -- 6\n",
    "Edge: 6 -- 7\n",
    "Edge: 7 -- 3\n",
    "```"
   ]
  },
  {
   "cell_type": "markdown",
   "metadata": {},
   "source": [
    "## ReadFile"
   ]
  },
  {
   "cell_type": "code",
   "execution_count": 2,
   "metadata": {},
   "outputs": [
    {
     "name": "stdout",
     "output_type": "stream",
     "text": [
      "Node: 0 is black\n",
      "Node: 1 is black\n",
      "Node: 2 is black\n",
      "Node: 3 is black\n",
      "Node: 4 is red\n",
      "Node: 5 is red\n",
      "Node: 6 is black\n",
      "Node: 7 is red\n",
      "\n",
      "Edge: 0 -- 1\n",
      "Edge: 1 -- 2\n",
      "Edge: 2 -- 3\n",
      "Edge: 0 -- 4\n",
      "Edge: 4 -- 3\n",
      "Edge: 0 -- 5\n",
      "Edge: 5 -- 6\n",
      "Edge: 6 -- 7\n",
      "Edge: 7 -- 3\n",
      "\n",
      "[('0', '1'), ('1', '2'), ('2', '3'), ('0', '4'), ('4', '3'), ('0', '5'), ('5', '6'), ('6', '7'), ('7', '3')]\n"
     ]
    }
   ],
   "source": [
    "path = \"data/G-ex.txt\"\n",
    "readFile = ReadFile(path)\n",
    "# or\n",
    "readFile = ReadFile(files.G_EX)\n",
    "\n",
    "print(readFile)\n",
    "print(readFile.edgeTupleList)"
   ]
  },
  {
   "cell_type": "markdown",
   "metadata": {},
   "source": [
    "## ReadFile or ReadInput Into a Graph (and nx.Graph)\n",
    "Since `ReadFile` and `ReadInput` both implements `BaseInput` all methods can be applied to both classes. The only difference is when we read in the data."
   ]
  },
  {
   "cell_type": "code",
   "execution_count": 3,
   "metadata": {},
   "outputs": [
    {
     "name": "stdout",
     "output_type": "stream",
     "text": [
      "nx edges:  [('0', '1'), ('0', '4'), ('0', '5'), ('1', '2'), ('2', '3'), ('3', '4'), ('3', '7'), ('5', '6'), ('6', '7')]\n",
      "is_directed:  False\n",
      "nx nodes:  ['0', '1', '2', '3', '4', '5', '6', '7']\n"
     ]
    }
   ],
   "source": [
    "## returns a Graph\n",
    "graph = readFile.toGraph()\n",
    "\n",
    "print(\"nx edges: \", graph.nxGraph.edges)\n",
    "print(\"is_directed: \", graph.nxGraph.is_directed())\n",
    "print(\"nx nodes: \", graph.nxGraph.nodes)"
   ]
  },
  {
   "cell_type": "markdown",
   "metadata": {},
   "source": [
    "### BaseRead\n",
    "`BaseRead` implements all the methods use in `ReadFile` and `Readinput`. Since the `BaseRead` doesn't have any data we can not use it on it's own.\n",
    "It will raise exceptions if no data is given as shown bellow"
   ]
  },
  {
   "cell_type": "code",
   "execution_count": 4,
   "metadata": {},
   "outputs": [
    {
     "ename": "Exception",
     "evalue": "No data: Base class can not be used on its own. Use ReadFile or ReadInput",
     "output_type": "error",
     "traceback": [
      "\u001b[0;31m---------------------------------------------------------------------------\u001b[0m",
      "\u001b[0;31mException\u001b[0m                                 Traceback (most recent call last)",
      "Cell \u001b[0;32mIn[4], line 6\u001b[0m\n\u001b[1;32m      4\u001b[0m baseRead\u001b[38;5;241m.\u001b[39mprintEdges()\n\u001b[1;32m      5\u001b[0m baseRead\u001b[38;5;241m.\u001b[39mprintNodes()\n\u001b[0;32m----> 6\u001b[0m \u001b[43mbaseRead\u001b[49m\u001b[38;5;241;43m.\u001b[39;49m\u001b[43mtoGraph\u001b[49m\u001b[43m(\u001b[49m\u001b[43m)\u001b[49m\n",
      "File \u001b[0;32m~/Documents/GitHub/Red-Scare/Utils/ReadInput.py:54\u001b[0m, in \u001b[0;36mBaseRead.toGraph\u001b[0;34m(self)\u001b[0m\n\u001b[1;32m     52\u001b[0m \u001b[38;5;28;01mdef\u001b[39;00m \u001b[38;5;21mtoGraph\u001b[39m(\u001b[38;5;28mself\u001b[39m) \u001b[38;5;241m-\u001b[39m\u001b[38;5;241m>\u001b[39m Graph:\n\u001b[1;32m     53\u001b[0m     \u001b[38;5;28;01mif\u001b[39;00m \u001b[38;5;28mself\u001b[39m\u001b[38;5;241m.\u001b[39mis_directed \u001b[38;5;129;01mis\u001b[39;00m \u001b[38;5;28;01mNone\u001b[39;00m:\n\u001b[0;32m---> 54\u001b[0m         \u001b[38;5;28;01mraise\u001b[39;00m \u001b[38;5;167;01mException\u001b[39;00m(\u001b[38;5;124m\"\u001b[39m\u001b[38;5;124mNo data: Base class can not be used on its own. Use ReadFile or ReadInput\u001b[39m\u001b[38;5;124m\"\u001b[39m)\n\u001b[1;32m     55\u001b[0m     \u001b[38;5;28;01mreturn\u001b[39;00m Graph(\u001b[38;5;28mself\u001b[39m\u001b[38;5;241m.\u001b[39mnodes, \u001b[38;5;28mself\u001b[39m\u001b[38;5;241m.\u001b[39medgeTupleList, \u001b[38;5;28mself\u001b[39m\u001b[38;5;241m.\u001b[39mis_directed)\n",
      "\u001b[0;31mException\u001b[0m: No data: Base class can not be used on its own. Use ReadFile or ReadInput"
     ]
    }
   ],
   "source": [
    "baseRead = BaseRead()\n",
    "\n",
    "## All these will raise exeptions\n",
    "baseRead.printEdges()\n",
    "baseRead.printNodes()\n",
    "baseRead.toGraph()"
   ]
  },
  {
   "cell_type": "code",
   "execution_count": null,
   "metadata": {},
   "outputs": [],
   "source": []
  },
  {
   "cell_type": "code",
   "execution_count": null,
   "metadata": {},
   "outputs": [],
   "source": []
  }
 ],
 "metadata": {
  "kernelspec": {
   "display_name": "venv",
   "language": "python",
   "name": "python3"
  },
  "language_info": {
   "codemirror_mode": {
    "name": "ipython",
    "version": 3
   },
   "file_extension": ".py",
   "mimetype": "text/x-python",
   "name": "python",
   "nbconvert_exporter": "python",
   "pygments_lexer": "ipython3",
   "version": "3.8.18"
  }
 },
 "nbformat": 4,
 "nbformat_minor": 2
}
