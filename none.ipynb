{
 "cells": [
  {
   "cell_type": "code",
   "execution_count": 1,
   "metadata": {},
   "outputs": [],
   "source": [
    "from Utils.ReadInput import ReadInput, ReadFile, BaseRead\n",
    "from Utils.GraphComponents import Graph\n",
    "from none import none\n",
    "import Utils.data_files as files\n",
    "import networkx as nx"
   ]
  },
  {
   "cell_type": "code",
   "execution_count": null,
   "metadata": {},
   "outputs": [],
   "source": [
    "# path = \"data/G-ex.txt\"\n",
    "path = \"data/rusty-1-17.txt\"\n",
    "\n",
    "# readFile = ReadFile(path)\n",
    "# or\n",
    "readFile = ReadFile(files.RUSTY_1_17)\n",
    "\n",
    "s_node = readFile.s\n",
    "t_node = readFile.t\n",
    "\n",
    "print(readFile)\n",
    "print(readFile.edgeTupleList)\n",
    "\n",
    "print(s_node)\n",
    "print(t_node)"
   ]
  },
  {
   "cell_type": "code",
   "execution_count": null,
   "metadata": {},
   "outputs": [],
   "source": [
    "## returns a Graph\n",
    "graph = readFile.toGraph()\n",
    "\n",
    "print(\"nx edges: \", graph.nxGraph.edges)\n",
    "print(\"is_directed: \", graph.nxGraph.is_directed())\n",
    "print(\"nx nodes: \", graph.nxGraph.nodes)"
   ]
  },
  {
   "cell_type": "code",
   "execution_count": null,
   "metadata": {},
   "outputs": [],
   "source": [
    "none(graph, s_node, t_node)"
   ]
  },
  {
   "cell_type": "code",
   "execution_count": null,
   "metadata": {},
   "outputs": [],
   "source": [
    "t_node"
   ]
  },
  {
   "cell_type": "code",
   "execution_count": null,
   "metadata": {},
   "outputs": [],
   "source": [
    "print(\"nx nodes: \", graph.nxGraph.nodes)"
   ]
  },
  {
   "cell_type": "code",
   "execution_count": null,
   "metadata": {},
   "outputs": [],
   "source": [
    "nx.draw_networkx(graph.nxGraph)"
   ]
  },
  {
   "cell_type": "code",
   "execution_count": 8,
   "metadata": {},
   "outputs": [],
   "source": [
    "# nx.shortest_path_length(graph.nxGraph, '7', '0')"
   ]
  },
  {
   "cell_type": "code",
   "execution_count": 9,
   "metadata": {},
   "outputs": [],
   "source": [
    "# print(graph.nxGraph.nodes)\n",
    "# for node in graph.Nodes:\n",
    "#     if node.is_red:\n",
    "#         print(node)\n",
    "#         graph.nxGraph.remove_node(node.node)\n",
    "# print(graph.nxGraph.nodes)"
   ]
  },
  {
   "cell_type": "code",
   "execution_count": 10,
   "metadata": {},
   "outputs": [],
   "source": [
    "# nx.shortest_path_length(graph.nxGraph, s_node, t_node)"
   ]
  }
 ],
 "metadata": {
  "kernelspec": {
   "display_name": "venv",
   "language": "python",
   "name": "python3"
  },
  "language_info": {
   "codemirror_mode": {
    "name": "ipython",
    "version": 3
   },
   "file_extension": ".py",
   "mimetype": "text/x-python",
   "name": "python",
   "nbconvert_exporter": "python",
   "pygments_lexer": "ipython3",
   "version": "3.10.11"
  }
 },
 "nbformat": 4,
 "nbformat_minor": 2
}
