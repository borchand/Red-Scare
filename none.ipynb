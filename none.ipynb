{
 "cells": [
  {
   "cell_type": "code",
   "execution_count": 1,
   "metadata": {},
   "outputs": [],
   "source": [
    "from Utils.ReadInput import ReadInput, ReadFile, BaseRead\n",
    "from Utils.GraphComponents import Graph\n",
    "from none import none\n",
    "import Utils.data_files as files\n",
    "import networkx as nx"
   ]
  },
  {
   "cell_type": "code",
   "execution_count": 46,
   "metadata": {},
   "outputs": [
    {
     "name": "stdout",
     "output_type": "stream",
     "text": [
      "Node: rungs is black\n",
      "Node: sings is black\n",
      "Node: begin is black\n",
      "Node: rents is black\n",
      "Node: ender is black\n",
      "Node: rests is black\n",
      "Node: binge is black\n",
      "Node: singe is black\n",
      "Node: rings is black\n",
      "Node: rusty is red\n",
      "Node: rente is black\n",
      "Node: runts is black\n",
      "Node: enter is black\n",
      "Node: rusts is black\n",
      "Node: tinge is black\n",
      "Node: tings is black\n",
      "Node: runty is black\n",
      "\n",
      "Edge: rungs -- rings\n",
      "Edge: rungs -- runts\n",
      "Edge: sings -- tings\n",
      "Edge: sings -- rings\n",
      "Edge: sings -- singe\n",
      "Edge: begin -- binge\n",
      "Edge: rents -- rests\n",
      "Edge: rents -- rente\n",
      "Edge: rents -- runts\n",
      "Edge: ender -- enter\n",
      "Edge: rests -- rusts\n",
      "Edge: binge -- tinge\n",
      "Edge: binge -- singe\n",
      "Edge: singe -- tinge\n",
      "Edge: rings -- tings\n",
      "Edge: rusty -- rusts\n",
      "Edge: rusty -- runty\n",
      "Edge: rente -- enter\n",
      "Edge: runts -- rusts\n",
      "Edge: runts -- runty\n",
      "Edge: tinge -- tings\n",
      "\n",
      "[('rungs', 'rings'), ('rungs', 'runts'), ('sings', 'tings'), ('sings', 'rings'), ('sings', 'singe'), ('begin', 'binge'), ('rents', 'rests'), ('rents', 'rente'), ('rents', 'runts'), ('ender', 'enter'), ('rests', 'rusts'), ('binge', 'tinge'), ('binge', 'singe'), ('singe', 'tinge'), ('rings', 'tings'), ('rusty', 'rusts'), ('rusty', 'runty'), ('rente', 'enter'), ('runts', 'rusts'), ('runts', 'runty'), ('tinge', 'tings')]\n",
      "begin\n",
      "ender\n"
     ]
    }
   ],
   "source": [
    "# path = \"data/G-ex.txt\"\n",
    "path = \"data/rusty-1-17.txt\"\n",
    "\n",
    "# readFile = ReadFile(path)\n",
    "# or\n",
    "readFile = ReadFile(files.RUSTY_1_17)\n",
    "\n",
    "s_node = readFile.s\n",
    "t_node = readFile.t\n",
    "\n",
    "print(readFile)\n",
    "print(readFile.edgeTupleList)\n",
    "\n",
    "print(s_node)\n",
    "print(t_node)"
   ]
  },
  {
   "cell_type": "code",
   "execution_count": 47,
   "metadata": {},
   "outputs": [
    {
     "name": "stdout",
     "output_type": "stream",
     "text": [
      "nx edges:  [('rungs', 'rings'), ('rungs', 'runts'), ('rings', 'sings'), ('rings', 'tings'), ('runts', 'rents'), ('runts', 'rusts'), ('runts', 'runty'), ('sings', 'tings'), ('sings', 'singe'), ('tings', 'tinge'), ('singe', 'binge'), ('singe', 'tinge'), ('begin', 'binge'), ('binge', 'tinge'), ('rents', 'rests'), ('rents', 'rente'), ('rests', 'rusts'), ('rente', 'enter'), ('ender', 'enter'), ('rusts', 'rusty'), ('rusty', 'runty')]\n",
      "is_directed:  False\n",
      "nx nodes:  ['rungs', 'rings', 'runts', 'sings', 'tings', 'singe', 'begin', 'binge', 'rents', 'rests', 'rente', 'ender', 'enter', 'rusts', 'tinge', 'rusty', 'runty']\n"
     ]
    }
   ],
   "source": [
    "## returns a Graph\n",
    "graph = readFile.toGraph()\n",
    "\n",
    "print(\"nx edges: \", graph.nxGraph.edges)\n",
    "print(\"is_directed: \", graph.nxGraph.is_directed())\n",
    "print(\"nx nodes: \", graph.nxGraph.nodes)"
   ]
  },
  {
   "cell_type": "code",
   "execution_count": 48,
   "metadata": {},
   "outputs": [
    {
     "data": {
      "text/plain": [
       "10"
      ]
     },
     "execution_count": 48,
     "metadata": {},
     "output_type": "execute_result"
    }
   ],
   "source": [
    "none(graph, s_node, t_node)"
   ]
  },
  {
   "cell_type": "code",
   "execution_count": 49,
   "metadata": {},
   "outputs": [
    {
     "data": {
      "text/plain": [
       "'ender'"
      ]
     },
     "execution_count": 49,
     "metadata": {},
     "output_type": "execute_result"
    }
   ],
   "source": [
    "t_node"
   ]
  },
  {
   "cell_type": "code",
   "execution_count": 50,
   "metadata": {},
   "outputs": [
    {
     "name": "stdout",
     "output_type": "stream",
     "text": [
      "nx nodes:  ['rungs', 'rings', 'runts', 'sings', 'tings', 'singe', 'begin', 'binge', 'rents', 'rests', 'rente', 'ender', 'enter', 'rusts', 'tinge', 'runty']\n"
     ]
    }
   ],
   "source": [
    "print(\"nx nodes: \", graph.nxGraph.nodes)"
   ]
  },
  {
   "cell_type": "code",
   "execution_count": 51,
   "metadata": {},
   "outputs": [
    {
     "data": {
      "image/png": "[encoded data removed]",
      "text/plain": [
       "<Figure size 432x288 with 1 Axes>"
      ]
     },
     "metadata": {},
     "output_type": "display_data"
    }
   ],
   "source": [
    "nx.draw_networkx(graph.nxGraph)"
   ]
  },
  {
   "cell_type": "code",
   "execution_count": 52,
   "metadata": {},
   "outputs": [],
   "source": [
    "# nx.shortest_path_length(graph.nxGraph, '7', '0')"
   ]
  },
  {
   "cell_type": "code",
   "execution_count": 53,
   "metadata": {},
   "outputs": [],
   "source": [
    "# print(graph.nxGraph.nodes)\n",
    "# for node in graph.Nodes:\n",
    "#     if node.is_red:\n",
    "#         print(node)\n",
    "#         graph.nxGraph.remove_node(node.node)\n",
    "# print(graph.nxGraph.nodes)"
   ]
  },
  {
   "cell_type": "code",
   "execution_count": 54,
   "metadata": {},
   "outputs": [],
   "source": [
    "# nx.shortest_path_length(graph.nxGraph, s_node, t_node)"
   ]
  }
 ],
 "metadata": {
  "kernelspec": {
   "display_name": "red-scare",
   "language": "python",
   "name": "python3"
  },
  "language_info": {
   "codemirror_mode": {
    "name": "ipython",
    "version": 3
   },
   "file_extension": ".py",
   "mimetype": "text/x-python",
   "name": "python",
   "nbconvert_exporter": "python",
   "pygments_lexer": "ipython3",
   "version": "3.13.0"
  }
 },
 "nbformat": 4,
 "nbformat_minor": 2
}
