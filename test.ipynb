{
 "cells": [
  {
   "cell_type": "code",
   "execution_count": 17,
   "metadata": {},
   "outputs": [],
   "source": [
    "from Utils.ReadInput import ReadInput, ReadFile\n",
    "from Utils.GraphComponents import Graph\n",
    "import networkx as nx\n",
    "import json\n",
    "import os"
   ]
  },
  {
   "cell_type": "code",
   "execution_count": 18,
   "metadata": {},
   "outputs": [],
   "source": [
    "l = []\n",
    "d = dict()\n",
    "for i in os.listdir(\"data/\"): \n",
    "    key = i.replace(\"-\", \"_\").replace(\".txt\", \"\").upper()\n",
    "    d[key] = \"data/\"+ i\n",
    "\n",
    "with open('files.json', 'w') as convert_file: \n",
    "     convert_file.write(json.dumps(d))\n"
   ]
  },
  {
   "cell_type": "code",
   "execution_count": null,
   "metadata": {},
   "outputs": [],
   "source": [
    "l = []\n",
    "d = dict()\n",
    "for i in os.listdir(\"data/\"): \n",
    "    key = i.replace(\"-\", \"_\").replace(\".txt\", \"\").upper()\n",
    "    d[key] = \"data/\"+ i\n",
    "\n",
    "with open('files.json', 'w') as convert_file: \n",
    "     convert_file.write(json.dumps(d))\n"
   ]
  },
  {
   "cell_type": "code",
   "execution_count": 3,
   "metadata": {},
   "outputs": [
    {
     "name": "stdout",
     "output_type": "stream",
     "text": [
      "Node: 0 is black\n",
      "Node: 1 is black\n",
      "Node: 2 is black\n",
      "Node: 3 is black\n",
      "Node: 4 is red\n",
      "Node: 5 is red\n",
      "Node: 6 is black\n",
      "Node: 7 is red\n",
      "\n",
      "Edge: 0 -- 1\n",
      "Edge: 1 -- 2\n",
      "Edge: 2 -- 3\n",
      "Edge: 0 -- 4\n",
      "Edge: 4 -- 3\n",
      "Edge: 0 -- 5\n",
      "Edge: 5 -- 6\n",
      "Edge: 6 -- 7\n",
      "Edge: 7 -- 3\n",
      "\n",
      "[('0', '1'), ('1', '2'), ('2', '3'), ('0', '4'), ('4', '3'), ('0', '5'), ('5', '6'), ('6', '7'), ('7', '3')]\n"
     ]
    }
   ],
   "source": [
    "path = \"data/G-ex.txt\"\n",
    "readFile = ReadFile(path)\n",
    "print(readFile)\n",
    "\n",
    "print(readFile.edgeTupleList)\n",
    "# edgeList = i.edgeTupleList\n",
    "# graph = Graph(i.nodes, edgeList, i.is_directed)\n",
    "\n",
    "# nx.draw(graph.nxGraph)"
   ]
  },
  {
   "cell_type": "code",
   "execution_count": null,
   "metadata": {},
   "outputs": [],
   "source": []
  },
  {
   "cell_type": "code",
   "execution_count": null,
   "metadata": {},
   "outputs": [],
   "source": []
  }
 ],
 "metadata": {
  "kernelspec": {
   "display_name": "NA",
   "language": "python",
   "name": "python3"
  },
  "language_info": {
   "codemirror_mode": {
    "name": "ipython",
    "version": 3
   },
   "file_extension": ".py",
   "mimetype": "text/x-python",
   "name": "python",
   "nbconvert_exporter": "python",
   "pygments_lexer": "ipython3",
   "version": "3.10.12"
  }
 },
 "nbformat": 4,
 "nbformat_minor": 2
}
